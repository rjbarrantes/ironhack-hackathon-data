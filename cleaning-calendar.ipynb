{
 "cells": [
  {
   "cell_type": "code",
   "execution_count": 2,
   "metadata": {},
   "outputs": [],
   "source": [
    "import pandas as pd\n",
    "pd.options.display.max_rows = 6000\n",
    "\n",
    "calendar = pd.read_csv('calendar.csv')"
   ]
  },
  {
   "cell_type": "code",
   "execution_count": 3,
   "metadata": {},
   "outputs": [
    {
     "data": {
      "text/plain": [
       "Index(['listing_id', 'date', 'available', 'price', 'adjusted_price',\n",
       "       'minimum_nights', 'maximum_nights'],\n",
       "      dtype='object')"
      ]
     },
     "execution_count": 3,
     "metadata": {},
     "output_type": "execute_result"
    }
   ],
   "source": [
    "# columns\n",
    "\n",
    "calendar.columns"
   ]
  },
  {
   "cell_type": "code",
   "execution_count": 4,
   "metadata": {},
   "outputs": [
    {
     "data": {
      "text/html": [
       "<div>\n",
       "<style scoped>\n",
       "    .dataframe tbody tr th:only-of-type {\n",
       "        vertical-align: middle;\n",
       "    }\n",
       "\n",
       "    .dataframe tbody tr th {\n",
       "        vertical-align: top;\n",
       "    }\n",
       "\n",
       "    .dataframe thead th {\n",
       "        text-align: right;\n",
       "    }\n",
       "</style>\n",
       "<table border=\"1\" class=\"dataframe\">\n",
       "  <thead>\n",
       "    <tr style=\"text-align: right;\">\n",
       "      <th></th>\n",
       "      <th>listing_id</th>\n",
       "      <th>date</th>\n",
       "      <th>available</th>\n",
       "      <th>price</th>\n",
       "      <th>adjusted_price</th>\n",
       "      <th>minimum_nights</th>\n",
       "      <th>maximum_nights</th>\n",
       "    </tr>\n",
       "  </thead>\n",
       "  <tbody>\n",
       "    <tr>\n",
       "      <td>0</td>\n",
       "      <td>31380</td>\n",
       "      <td>2019-07-10</td>\n",
       "      <td>f</td>\n",
       "      <td>$75.00</td>\n",
       "      <td>$75.00</td>\n",
       "      <td>3</td>\n",
       "      <td>1125</td>\n",
       "    </tr>\n",
       "    <tr>\n",
       "      <td>1</td>\n",
       "      <td>18666</td>\n",
       "      <td>2019-07-10</td>\n",
       "      <td>f</td>\n",
       "      <td>$130.00</td>\n",
       "      <td>$130.00</td>\n",
       "      <td>3</td>\n",
       "      <td>730</td>\n",
       "    </tr>\n",
       "    <tr>\n",
       "      <td>2</td>\n",
       "      <td>18666</td>\n",
       "      <td>2019-07-11</td>\n",
       "      <td>f</td>\n",
       "      <td>$130.00</td>\n",
       "      <td>$130.00</td>\n",
       "      <td>3</td>\n",
       "      <td>730</td>\n",
       "    </tr>\n",
       "    <tr>\n",
       "      <td>3</td>\n",
       "      <td>18666</td>\n",
       "      <td>2019-07-12</td>\n",
       "      <td>f</td>\n",
       "      <td>$130.00</td>\n",
       "      <td>$130.00</td>\n",
       "      <td>3</td>\n",
       "      <td>730</td>\n",
       "    </tr>\n",
       "    <tr>\n",
       "      <td>4</td>\n",
       "      <td>18666</td>\n",
       "      <td>2019-07-13</td>\n",
       "      <td>f</td>\n",
       "      <td>$130.00</td>\n",
       "      <td>$130.00</td>\n",
       "      <td>3</td>\n",
       "      <td>730</td>\n",
       "    </tr>\n",
       "  </tbody>\n",
       "</table>\n",
       "</div>"
      ],
      "text/plain": [
       "   listing_id        date available    price adjusted_price  minimum_nights  \\\n",
       "0       31380  2019-07-10         f   $75.00         $75.00               3   \n",
       "1       18666  2019-07-10         f  $130.00        $130.00               3   \n",
       "2       18666  2019-07-11         f  $130.00        $130.00               3   \n",
       "3       18666  2019-07-12         f  $130.00        $130.00               3   \n",
       "4       18666  2019-07-13         f  $130.00        $130.00               3   \n",
       "\n",
       "   maximum_nights  \n",
       "0            1125  \n",
       "1             730  \n",
       "2             730  \n",
       "3             730  \n",
       "4             730  "
      ]
     },
     "execution_count": 4,
     "metadata": {},
     "output_type": "execute_result"
    }
   ],
   "source": [
    "# first 5 rows of calendar\n",
    "\n",
    "calendar.head()"
   ]
  },
  {
   "cell_type": "code",
   "execution_count": 5,
   "metadata": {},
   "outputs": [
    {
     "data": {
      "text/plain": [
       "f    3821594\n",
       "t    3417451\n",
       "Name: available, dtype: int64"
      ]
     },
     "execution_count": 5,
     "metadata": {},
     "output_type": "execute_result"
    }
   ],
   "source": [
    "# starting values in available column\n",
    "\n",
    "calendar['available'].value_counts()"
   ]
  },
  {
   "cell_type": "code",
   "execution_count": 6,
   "metadata": {},
   "outputs": [
    {
     "data": {
      "text/plain": [
       "False    3821594\n",
       "True     3417451\n",
       "Name: available, dtype: int64"
      ]
     },
     "execution_count": 6,
     "metadata": {},
     "output_type": "execute_result"
    }
   ],
   "source": [
    "# cleaning values in available column\n",
    "\n",
    "calendar.loc[calendar['available'] == 'f', 'available'] = False\n",
    "calendar.loc[calendar['available'] == 't', 'available'] = True\n",
    "calendar['available'].value_counts()"
   ]
  },
  {
   "cell_type": "code",
   "execution_count": 7,
   "metadata": {},
   "outputs": [
    {
     "data": {
      "text/html": [
       "<div>\n",
       "<style scoped>\n",
       "    .dataframe tbody tr th:only-of-type {\n",
       "        vertical-align: middle;\n",
       "    }\n",
       "\n",
       "    .dataframe tbody tr th {\n",
       "        vertical-align: top;\n",
       "    }\n",
       "\n",
       "    .dataframe thead th {\n",
       "        text-align: right;\n",
       "    }\n",
       "</style>\n",
       "<table border=\"1\" class=\"dataframe\">\n",
       "  <thead>\n",
       "    <tr style=\"text-align: right;\">\n",
       "      <th></th>\n",
       "      <th>price</th>\n",
       "      <th>adjusted_price</th>\n",
       "    </tr>\n",
       "  </thead>\n",
       "  <tbody>\n",
       "    <tr>\n",
       "      <td>0</td>\n",
       "      <td>75.00</td>\n",
       "      <td>75.00</td>\n",
       "    </tr>\n",
       "    <tr>\n",
       "      <td>1</td>\n",
       "      <td>130.00</td>\n",
       "      <td>130.00</td>\n",
       "    </tr>\n",
       "    <tr>\n",
       "      <td>2</td>\n",
       "      <td>130.00</td>\n",
       "      <td>130.00</td>\n",
       "    </tr>\n",
       "    <tr>\n",
       "      <td>3</td>\n",
       "      <td>130.00</td>\n",
       "      <td>130.00</td>\n",
       "    </tr>\n",
       "    <tr>\n",
       "      <td>4</td>\n",
       "      <td>130.00</td>\n",
       "      <td>130.00</td>\n",
       "    </tr>\n",
       "  </tbody>\n",
       "</table>\n",
       "</div>"
      ],
      "text/plain": [
       "    price adjusted_price\n",
       "0   75.00          75.00\n",
       "1  130.00         130.00\n",
       "2  130.00         130.00\n",
       "3  130.00         130.00\n",
       "4  130.00         130.00"
      ]
     },
     "execution_count": 7,
     "metadata": {},
     "output_type": "execute_result"
    }
   ],
   "source": [
    "# cleaning values in price and adjusted_price column\n",
    "\n",
    "calendar['price'] = calendar['price'].str.strip('$').str.replace(',', '')\n",
    "calendar['adjusted_price'] = calendar['adjusted_price'].str.strip('$,').str.replace(',', '')\n",
    "calendar[['price', 'adjusted_price']].head()"
   ]
  },
  {
   "cell_type": "code",
   "execution_count": 8,
   "metadata": {},
   "outputs": [
    {
     "data": {
      "text/plain": [
       "adjusted_price    0.002417\n",
       "price             0.002417\n",
       "maximum_nights    0.000000\n",
       "minimum_nights    0.000000\n",
       "available         0.000000\n",
       "date              0.000000\n",
       "listing_id        0.000000\n",
       "dtype: float64"
      ]
     },
     "execution_count": 8,
     "metadata": {},
     "output_type": "execute_result"
    }
   ],
   "source": [
    "# determining missingness among columns\n",
    "\n",
    "def missingness(df):\n",
    "    return df.isna().sum().sort_values(ascending = False) / len(df) * 100\n",
    "\n",
    "missingness(calendar)"
   ]
  },
  {
   "cell_type": "code",
   "execution_count": 9,
   "metadata": {},
   "outputs": [
    {
     "data": {
      "text/plain": [
       "[[98.04278050488703, 'price - adjusted_price'],\n",
       " [10.11745333811297, 'available - minimum_nights'],\n",
       " [0.5333438319557345, 'minimum_nights - maximum_nights'],\n",
       " [0.04635970628722435, 'available - maximum_nights'],\n",
       " [0.0, 'price - minimum_nights'],\n",
       " [0.0, 'price - maximum_nights'],\n",
       " [0.0, 'listing_id - price'],\n",
       " [0.0, 'listing_id - minimum_nights'],\n",
       " [0.0, 'listing_id - maximum_nights'],\n",
       " [0.0, 'listing_id - date'],\n",
       " [0.0, 'listing_id - available'],\n",
       " [0.0, 'listing_id - adjusted_price'],\n",
       " [0.0, 'date - price'],\n",
       " [0.0, 'date - minimum_nights'],\n",
       " [0.0, 'date - maximum_nights'],\n",
       " [0.0, 'date - available'],\n",
       " [0.0, 'date - adjusted_price'],\n",
       " [0.0, 'available - price'],\n",
       " [0.0, 'available - adjusted_price'],\n",
       " [0.0, 'adjusted_price - minimum_nights'],\n",
       " [0.0, 'adjusted_price - maximum_nights']]"
      ]
     },
     "execution_count": 9,
     "metadata": {},
     "output_type": "execute_result"
    }
   ],
   "source": [
    "# determining repeating columns\n",
    "\n",
    "def repeating_cols(df):\n",
    "    comparisons = []\n",
    "    match_ratios = []\n",
    "    \n",
    "    for i in range(len(df.columns)):\n",
    "        for j in range(i + 1, len(df.columns)):\n",
    "            comparisons_i = [df.columns[i], df.columns[j]]\n",
    "            comparisons.append(comparisons_i)\n",
    "    \n",
    "    for i in comparisons:\n",
    "        match_ratios_i = [(df[i[0]] == df[i[1]]).sum() / len(df) * 100, i[0] + ' - ' + i[1]]\n",
    "        match_ratios.append(match_ratios_i)\n",
    "    match_ratios.sort(reverse = True)\n",
    "    \n",
    "    return match_ratios\n",
    "\n",
    "repeating_cols(calendar)"
   ]
  },
  {
   "cell_type": "code",
   "execution_count": 10,
   "metadata": {},
   "outputs": [
    {
     "data": {
      "text/html": [
       "<div>\n",
       "<style scoped>\n",
       "    .dataframe tbody tr th:only-of-type {\n",
       "        vertical-align: middle;\n",
       "    }\n",
       "\n",
       "    .dataframe tbody tr th {\n",
       "        vertical-align: top;\n",
       "    }\n",
       "\n",
       "    .dataframe thead th {\n",
       "        text-align: right;\n",
       "    }\n",
       "</style>\n",
       "<table border=\"1\" class=\"dataframe\">\n",
       "  <thead>\n",
       "    <tr style=\"text-align: right;\">\n",
       "      <th></th>\n",
       "      <th>listing_id</th>\n",
       "      <th>date</th>\n",
       "      <th>available</th>\n",
       "      <th>price</th>\n",
       "      <th>minimum_nights</th>\n",
       "      <th>maximum_nights</th>\n",
       "    </tr>\n",
       "  </thead>\n",
       "  <tbody>\n",
       "    <tr>\n",
       "      <td>0</td>\n",
       "      <td>31380</td>\n",
       "      <td>2019-07-10</td>\n",
       "      <td>False</td>\n",
       "      <td>75.00</td>\n",
       "      <td>3</td>\n",
       "      <td>1125</td>\n",
       "    </tr>\n",
       "    <tr>\n",
       "      <td>1</td>\n",
       "      <td>18666</td>\n",
       "      <td>2019-07-10</td>\n",
       "      <td>False</td>\n",
       "      <td>130.00</td>\n",
       "      <td>3</td>\n",
       "      <td>730</td>\n",
       "    </tr>\n",
       "    <tr>\n",
       "      <td>2</td>\n",
       "      <td>18666</td>\n",
       "      <td>2019-07-11</td>\n",
       "      <td>False</td>\n",
       "      <td>130.00</td>\n",
       "      <td>3</td>\n",
       "      <td>730</td>\n",
       "    </tr>\n",
       "    <tr>\n",
       "      <td>3</td>\n",
       "      <td>18666</td>\n",
       "      <td>2019-07-12</td>\n",
       "      <td>False</td>\n",
       "      <td>130.00</td>\n",
       "      <td>3</td>\n",
       "      <td>730</td>\n",
       "    </tr>\n",
       "    <tr>\n",
       "      <td>4</td>\n",
       "      <td>18666</td>\n",
       "      <td>2019-07-13</td>\n",
       "      <td>False</td>\n",
       "      <td>130.00</td>\n",
       "      <td>3</td>\n",
       "      <td>730</td>\n",
       "    </tr>\n",
       "  </tbody>\n",
       "</table>\n",
       "</div>"
      ],
      "text/plain": [
       "   listing_id        date  available   price  minimum_nights  maximum_nights\n",
       "0       31380  2019-07-10      False   75.00               3            1125\n",
       "1       18666  2019-07-10      False  130.00               3             730\n",
       "2       18666  2019-07-11      False  130.00               3             730\n",
       "3       18666  2019-07-12      False  130.00               3             730\n",
       "4       18666  2019-07-13      False  130.00               3             730"
      ]
     },
     "execution_count": 10,
     "metadata": {},
     "output_type": "execute_result"
    }
   ],
   "source": [
    "# drop primarily repeating columns (adjuted price)\n",
    "\n",
    "calendar = calendar.drop(columns = 'adjusted_price')\n",
    "calendar.head()"
   ]
  },
  {
   "cell_type": "code",
   "execution_count": 11,
   "metadata": {},
   "outputs": [
    {
     "data": {
      "text/plain": [
       "listing_id         int64\n",
       "date              object\n",
       "available           bool\n",
       "price             object\n",
       "minimum_nights     int64\n",
       "maximum_nights     int64\n",
       "dtype: object"
      ]
     },
     "execution_count": 11,
     "metadata": {},
     "output_type": "execute_result"
    }
   ],
   "source": [
    "# starting column dtypes\n",
    "\n",
    "calendar.dtypes"
   ]
  },
  {
   "cell_type": "code",
   "execution_count": 12,
   "metadata": {},
   "outputs": [
    {
     "data": {
      "text/plain": [
       "listing_id                 int64\n",
       "date              datetime64[ns]\n",
       "available                   bool\n",
       "price                    float64\n",
       "minimum_nights             int64\n",
       "maximum_nights             int64\n",
       "dtype: object"
      ]
     },
     "execution_count": 12,
     "metadata": {},
     "output_type": "execute_result"
    }
   ],
   "source": [
    "calendar = calendar.astype({'date': 'datetime64', 'price': 'float64'})\n",
    "calendar.dtypes"
   ]
  },
  {
   "cell_type": "code",
   "execution_count": 13,
   "metadata": {},
   "outputs": [
    {
     "data": {
      "text/html": [
       "<div>\n",
       "<style scoped>\n",
       "    .dataframe tbody tr th:only-of-type {\n",
       "        vertical-align: middle;\n",
       "    }\n",
       "\n",
       "    .dataframe tbody tr th {\n",
       "        vertical-align: top;\n",
       "    }\n",
       "\n",
       "    .dataframe thead th {\n",
       "        text-align: right;\n",
       "    }\n",
       "</style>\n",
       "<table border=\"1\" class=\"dataframe\">\n",
       "  <thead>\n",
       "    <tr style=\"text-align: right;\">\n",
       "      <th></th>\n",
       "      <th>listing_id</th>\n",
       "      <th>date</th>\n",
       "      <th>available</th>\n",
       "      <th>price</th>\n",
       "      <th>minimum_nights</th>\n",
       "      <th>maximum_nights</th>\n",
       "    </tr>\n",
       "  </thead>\n",
       "  <tbody>\n",
       "    <tr>\n",
       "      <td>0</td>\n",
       "      <td>31380</td>\n",
       "      <td>2019-07-10</td>\n",
       "      <td>False</td>\n",
       "      <td>75.0</td>\n",
       "      <td>3</td>\n",
       "      <td>1125</td>\n",
       "    </tr>\n",
       "    <tr>\n",
       "      <td>1</td>\n",
       "      <td>18666</td>\n",
       "      <td>2019-07-10</td>\n",
       "      <td>False</td>\n",
       "      <td>130.0</td>\n",
       "      <td>3</td>\n",
       "      <td>730</td>\n",
       "    </tr>\n",
       "    <tr>\n",
       "      <td>2</td>\n",
       "      <td>18666</td>\n",
       "      <td>2019-07-11</td>\n",
       "      <td>False</td>\n",
       "      <td>130.0</td>\n",
       "      <td>3</td>\n",
       "      <td>730</td>\n",
       "    </tr>\n",
       "    <tr>\n",
       "      <td>3</td>\n",
       "      <td>18666</td>\n",
       "      <td>2019-07-12</td>\n",
       "      <td>False</td>\n",
       "      <td>130.0</td>\n",
       "      <td>3</td>\n",
       "      <td>730</td>\n",
       "    </tr>\n",
       "    <tr>\n",
       "      <td>4</td>\n",
       "      <td>18666</td>\n",
       "      <td>2019-07-13</td>\n",
       "      <td>False</td>\n",
       "      <td>130.0</td>\n",
       "      <td>3</td>\n",
       "      <td>730</td>\n",
       "    </tr>\n",
       "  </tbody>\n",
       "</table>\n",
       "</div>"
      ],
      "text/plain": [
       "   listing_id       date  available  price  minimum_nights  maximum_nights\n",
       "0       31380 2019-07-10      False   75.0               3            1125\n",
       "1       18666 2019-07-10      False  130.0               3             730\n",
       "2       18666 2019-07-11      False  130.0               3             730\n",
       "3       18666 2019-07-12      False  130.0               3             730\n",
       "4       18666 2019-07-13      False  130.0               3             730"
      ]
     },
     "execution_count": 13,
     "metadata": {},
     "output_type": "execute_result"
    }
   ],
   "source": [
    "calendar.head()"
   ]
  },
  {
   "cell_type": "code",
   "execution_count": 14,
   "metadata": {},
   "outputs": [],
   "source": [
    "calendar.to_csv('calendar-clean.csv', index = False)"
   ]
  },
  {
   "cell_type": "code",
   "execution_count": 16,
   "metadata": {},
   "outputs": [],
   "source": [
    "calendar.to_json('calendar.json', orient = 'split', index = False)"
   ]
  },
  {
   "cell_type": "code",
   "execution_count": null,
   "metadata": {},
   "outputs": [],
   "source": []
  }
 ],
 "metadata": {
  "kernelspec": {
   "display_name": "Python 3",
   "language": "python",
   "name": "python3"
  },
  "language_info": {
   "codemirror_mode": {
    "name": "ipython",
    "version": 3
   },
   "file_extension": ".py",
   "mimetype": "text/x-python",
   "name": "python",
   "nbconvert_exporter": "python",
   "pygments_lexer": "ipython3",
   "version": "3.7.3"
  }
 },
 "nbformat": 4,
 "nbformat_minor": 2
}
