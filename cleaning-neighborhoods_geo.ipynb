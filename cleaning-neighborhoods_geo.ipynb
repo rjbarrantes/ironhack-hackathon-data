{
 "cells": [
  {
   "cell_type": "code",
   "execution_count": 1,
   "metadata": {},
   "outputs": [],
   "source": [
    "import pandas as pd\n",
    "from pandas.io.json import json_normalize\n",
    "import json\n",
    "pd.options.display.max_rows = 6000\n",
    "\n",
    "neighborhoods_geo_nest = pd.read_json('neighbourhoods.geojson')"
   ]
  },
  {
   "cell_type": "code",
   "execution_count": 2,
   "metadata": {},
   "outputs": [
    {
     "data": {
      "text/plain": [
       "Index(['type', 'features'], dtype='object')"
      ]
     },
     "execution_count": 2,
     "metadata": {},
     "output_type": "execute_result"
    }
   ],
   "source": [
    "# columns\n",
    "\n",
    "neighborhoods_geo_nest.columns"
   ]
  },
  {
   "cell_type": "code",
   "execution_count": 3,
   "metadata": {},
   "outputs": [
    {
     "data": {
      "text/html": [
       "<div>\n",
       "<style scoped>\n",
       "    .dataframe tbody tr th:only-of-type {\n",
       "        vertical-align: middle;\n",
       "    }\n",
       "\n",
       "    .dataframe tbody tr th {\n",
       "        vertical-align: top;\n",
       "    }\n",
       "\n",
       "    .dataframe thead th {\n",
       "        text-align: right;\n",
       "    }\n",
       "</style>\n",
       "<table border=\"1\" class=\"dataframe\">\n",
       "  <thead>\n",
       "    <tr style=\"text-align: right;\">\n",
       "      <th></th>\n",
       "      <th>type</th>\n",
       "      <th>features</th>\n",
       "    </tr>\n",
       "  </thead>\n",
       "  <tbody>\n",
       "    <tr>\n",
       "      <td>0</td>\n",
       "      <td>FeatureCollection</td>\n",
       "      <td>{'type': 'Feature', 'geometry': {'type': 'Mult...</td>\n",
       "    </tr>\n",
       "    <tr>\n",
       "      <td>1</td>\n",
       "      <td>FeatureCollection</td>\n",
       "      <td>{'type': 'Feature', 'geometry': {'type': 'Mult...</td>\n",
       "    </tr>\n",
       "    <tr>\n",
       "      <td>2</td>\n",
       "      <td>FeatureCollection</td>\n",
       "      <td>{'type': 'Feature', 'geometry': {'type': 'Mult...</td>\n",
       "    </tr>\n",
       "    <tr>\n",
       "      <td>3</td>\n",
       "      <td>FeatureCollection</td>\n",
       "      <td>{'type': 'Feature', 'geometry': {'type': 'Mult...</td>\n",
       "    </tr>\n",
       "    <tr>\n",
       "      <td>4</td>\n",
       "      <td>FeatureCollection</td>\n",
       "      <td>{'type': 'Feature', 'geometry': {'type': 'Mult...</td>\n",
       "    </tr>\n",
       "  </tbody>\n",
       "</table>\n",
       "</div>"
      ],
      "text/plain": [
       "                type                                           features\n",
       "0  FeatureCollection  {'type': 'Feature', 'geometry': {'type': 'Mult...\n",
       "1  FeatureCollection  {'type': 'Feature', 'geometry': {'type': 'Mult...\n",
       "2  FeatureCollection  {'type': 'Feature', 'geometry': {'type': 'Mult...\n",
       "3  FeatureCollection  {'type': 'Feature', 'geometry': {'type': 'Mult...\n",
       "4  FeatureCollection  {'type': 'Feature', 'geometry': {'type': 'Mult..."
      ]
     },
     "execution_count": 3,
     "metadata": {},
     "output_type": "execute_result"
    }
   ],
   "source": [
    "# first 5 rows of calendar\n",
    "\n",
    "neighborhoods_geo_nest.head()"
   ]
  },
  {
   "cell_type": "code",
   "execution_count": 4,
   "metadata": {},
   "outputs": [
    {
     "data": {
      "text/html": [
       "<div>\n",
       "<style scoped>\n",
       "    .dataframe tbody tr th:only-of-type {\n",
       "        vertical-align: middle;\n",
       "    }\n",
       "\n",
       "    .dataframe tbody tr th {\n",
       "        vertical-align: top;\n",
       "    }\n",
       "\n",
       "    .dataframe thead th {\n",
       "        text-align: right;\n",
       "    }\n",
       "</style>\n",
       "<table border=\"1\" class=\"dataframe\">\n",
       "  <thead>\n",
       "    <tr style=\"text-align: right;\">\n",
       "      <th></th>\n",
       "      <th>feature</th>\n",
       "      <th>neighborhood_group</th>\n",
       "      <th>neighborhood</th>\n",
       "      <th>point</th>\n",
       "      <th>coordinates</th>\n",
       "    </tr>\n",
       "  </thead>\n",
       "  <tbody>\n",
       "    <tr>\n",
       "      <td>0</td>\n",
       "      <td>0</td>\n",
       "      <td>Ciutat Vella</td>\n",
       "      <td>el Raval</td>\n",
       "      <td>0</td>\n",
       "      <td>[2.177386, 41.375347]</td>\n",
       "    </tr>\n",
       "    <tr>\n",
       "      <td>1</td>\n",
       "      <td>0</td>\n",
       "      <td>Ciutat Vella</td>\n",
       "      <td>el Raval</td>\n",
       "      <td>1</td>\n",
       "      <td>[2.178532, 41.374845]</td>\n",
       "    </tr>\n",
       "    <tr>\n",
       "      <td>2</td>\n",
       "      <td>0</td>\n",
       "      <td>Ciutat Vella</td>\n",
       "      <td>el Raval</td>\n",
       "      <td>2</td>\n",
       "      <td>[2.178881, 41.374692]</td>\n",
       "    </tr>\n",
       "    <tr>\n",
       "      <td>3</td>\n",
       "      <td>0</td>\n",
       "      <td>Ciutat Vella</td>\n",
       "      <td>el Raval</td>\n",
       "      <td>3</td>\n",
       "      <td>[2.178217, 41.373863]</td>\n",
       "    </tr>\n",
       "    <tr>\n",
       "      <td>4</td>\n",
       "      <td>0</td>\n",
       "      <td>Ciutat Vella</td>\n",
       "      <td>el Raval</td>\n",
       "      <td>4</td>\n",
       "      <td>[2.183148, 41.371629]</td>\n",
       "    </tr>\n",
       "    <tr>\n",
       "      <td>...</td>\n",
       "      <td>...</td>\n",
       "      <td>...</td>\n",
       "      <td>...</td>\n",
       "      <td>...</td>\n",
       "      <td>...</td>\n",
       "    </tr>\n",
       "    <tr>\n",
       "      <td>16698</td>\n",
       "      <td>74</td>\n",
       "      <td>SarriÃ -Sant Gervasi</td>\n",
       "      <td>Vallvidrera, el Tibidabo i les Planes</td>\n",
       "      <td>123</td>\n",
       "      <td>[2.067025, 41.426859]</td>\n",
       "    </tr>\n",
       "    <tr>\n",
       "      <td>16699</td>\n",
       "      <td>74</td>\n",
       "      <td>SarriÃ -Sant Gervasi</td>\n",
       "      <td>Vallvidrera, el Tibidabo i les Planes</td>\n",
       "      <td>124</td>\n",
       "      <td>[2.067195, 41.426316]</td>\n",
       "    </tr>\n",
       "    <tr>\n",
       "      <td>16700</td>\n",
       "      <td>74</td>\n",
       "      <td>SarriÃ -Sant Gervasi</td>\n",
       "      <td>Vallvidrera, el Tibidabo i les Planes</td>\n",
       "      <td>125</td>\n",
       "      <td>[2.069735, 41.425756]</td>\n",
       "    </tr>\n",
       "    <tr>\n",
       "      <td>16701</td>\n",
       "      <td>74</td>\n",
       "      <td>SarriÃ -Sant Gervasi</td>\n",
       "      <td>Vallvidrera, el Tibidabo i les Planes</td>\n",
       "      <td>126</td>\n",
       "      <td>[2.071304, 41.42298]</td>\n",
       "    </tr>\n",
       "    <tr>\n",
       "      <td>16702</td>\n",
       "      <td>74</td>\n",
       "      <td>SarriÃ -Sant Gervasi</td>\n",
       "      <td>Vallvidrera, el Tibidabo i les Planes</td>\n",
       "      <td>127</td>\n",
       "      <td>[2.070525, 41.419069]</td>\n",
       "    </tr>\n",
       "  </tbody>\n",
       "</table>\n",
       "<p>16703 rows × 5 columns</p>\n",
       "</div>"
      ],
      "text/plain": [
       "      feature    neighborhood_group                           neighborhood  \\\n",
       "0           0          Ciutat Vella                               el Raval   \n",
       "1           0          Ciutat Vella                               el Raval   \n",
       "2           0          Ciutat Vella                               el Raval   \n",
       "3           0          Ciutat Vella                               el Raval   \n",
       "4           0          Ciutat Vella                               el Raval   \n",
       "...       ...                   ...                                    ...   \n",
       "16698      74  SarriÃ -Sant Gervasi  Vallvidrera, el Tibidabo i les Planes   \n",
       "16699      74  SarriÃ -Sant Gervasi  Vallvidrera, el Tibidabo i les Planes   \n",
       "16700      74  SarriÃ -Sant Gervasi  Vallvidrera, el Tibidabo i les Planes   \n",
       "16701      74  SarriÃ -Sant Gervasi  Vallvidrera, el Tibidabo i les Planes   \n",
       "16702      74  SarriÃ -Sant Gervasi  Vallvidrera, el Tibidabo i les Planes   \n",
       "\n",
       "      point            coordinates  \n",
       "0         0  [2.177386, 41.375347]  \n",
       "1         1  [2.178532, 41.374845]  \n",
       "2         2  [2.178881, 41.374692]  \n",
       "3         3  [2.178217, 41.373863]  \n",
       "4         4  [2.183148, 41.371629]  \n",
       "...     ...                    ...  \n",
       "16698   123  [2.067025, 41.426859]  \n",
       "16699   124  [2.067195, 41.426316]  \n",
       "16700   125  [2.069735, 41.425756]  \n",
       "16701   126   [2.071304, 41.42298]  \n",
       "16702   127  [2.070525, 41.419069]  \n",
       "\n",
       "[16703 rows x 5 columns]"
      ]
     },
     "execution_count": 4,
     "metadata": {},
     "output_type": "execute_result"
    }
   ],
   "source": [
    "# flatten nested neighborhoods geo-data\n",
    "\n",
    "feature = []\n",
    "neighborhood_group = []\n",
    "neighborhood = []\n",
    "point = []\n",
    "coordinates = []\n",
    "\n",
    "feature_list = neighborhoods_geo_nest['features']\n",
    "total_features = len(feature_list)\n",
    "\n",
    "for i in range(total_features):\n",
    "    coords_per_feature_i = len(feature_list[i]['geometry']['coordinates'][0][0])\n",
    "    for j in range(coords_per_feature_i):\n",
    "        featurei_j = i\n",
    "        neighborhoodgroupi_j = feature_list[i]['properties']['neighbourhood_group']\n",
    "        neighborhoodi_j = feature_list[i]['properties']['neighbourhood']\n",
    "        coordsi_j = feature_list[i]['geometry']['coordinates'][0][0][j]\n",
    "        feature.append(featurei_j)\n",
    "        neighborhood_group.append(neighborhoodgroupi_j)        \n",
    "        neighborhood.append(neighborhoodi_j)\n",
    "        point.append(j)\n",
    "        coordinates.append(coordsi_j)\n",
    "\n",
    "neighbohoods_geo_flat = pd.DataFrame([feature, neighborhood_group, neighborhood, point, coordinates]).T\n",
    "neighbohoods_geo_flat.columns = ['feature', 'neighborhood_group', 'neighborhood', 'point', 'coordinates']\n",
    "neighbohoods_geo_flat"
   ]
  },
  {
   "cell_type": "code",
   "execution_count": 5,
   "metadata": {},
   "outputs": [
    {
     "data": {
      "text/plain": [
       "coordinates           0.0\n",
       "point                 0.0\n",
       "neighborhood          0.0\n",
       "neighborhood_group    0.0\n",
       "feature               0.0\n",
       "dtype: float64"
      ]
     },
     "execution_count": 5,
     "metadata": {},
     "output_type": "execute_result"
    }
   ],
   "source": [
    "# determining missingness among columns\n",
    "\n",
    "def missingness(df):\n",
    "    return df.isna().sum().sort_values(ascending = False) / len(df) * 100\n",
    "\n",
    "missingness(neighbohoods_geo_flat)"
   ]
  },
  {
   "cell_type": "code",
   "execution_count": 6,
   "metadata": {},
   "outputs": [
    {
     "data": {
      "text/plain": [
       "feature               object\n",
       "neighborhood_group    object\n",
       "neighborhood          object\n",
       "point                 object\n",
       "coordinates           object\n",
       "dtype: object"
      ]
     },
     "execution_count": 6,
     "metadata": {},
     "output_type": "execute_result"
    }
   ],
   "source": [
    "# starting column dtypes\n",
    "\n",
    "neighbohoods_geo_flat.dtypes"
   ]
  },
  {
   "cell_type": "code",
   "execution_count": 7,
   "metadata": {},
   "outputs": [
    {
     "data": {
      "text/plain": [
       "feature                int64\n",
       "neighborhood_group    object\n",
       "neighborhood          object\n",
       "point                  int64\n",
       "coordinates           object\n",
       "dtype: object"
      ]
     },
     "execution_count": 7,
     "metadata": {},
     "output_type": "execute_result"
    }
   ],
   "source": [
    "neighbohoods_geo_flat = neighbohoods_geo_flat.astype({'feature': 'int64', 'point': 'int64'})\n",
    "neighbohoods_geo_flat.dtypes"
   ]
  },
  {
   "cell_type": "code",
   "execution_count": 8,
   "metadata": {},
   "outputs": [
    {
     "data": {
      "text/html": [
       "<div>\n",
       "<style scoped>\n",
       "    .dataframe tbody tr th:only-of-type {\n",
       "        vertical-align: middle;\n",
       "    }\n",
       "\n",
       "    .dataframe tbody tr th {\n",
       "        vertical-align: top;\n",
       "    }\n",
       "\n",
       "    .dataframe thead th {\n",
       "        text-align: right;\n",
       "    }\n",
       "</style>\n",
       "<table border=\"1\" class=\"dataframe\">\n",
       "  <thead>\n",
       "    <tr style=\"text-align: right;\">\n",
       "      <th></th>\n",
       "      <th>feature</th>\n",
       "      <th>neighborhood_group</th>\n",
       "      <th>neighborhood</th>\n",
       "      <th>point</th>\n",
       "      <th>coordinates</th>\n",
       "    </tr>\n",
       "  </thead>\n",
       "  <tbody>\n",
       "    <tr>\n",
       "      <td>0</td>\n",
       "      <td>0</td>\n",
       "      <td>Ciutat Vella</td>\n",
       "      <td>el Raval</td>\n",
       "      <td>0</td>\n",
       "      <td>[2.177386, 41.375347]</td>\n",
       "    </tr>\n",
       "    <tr>\n",
       "      <td>1</td>\n",
       "      <td>0</td>\n",
       "      <td>Ciutat Vella</td>\n",
       "      <td>el Raval</td>\n",
       "      <td>1</td>\n",
       "      <td>[2.178532, 41.374845]</td>\n",
       "    </tr>\n",
       "    <tr>\n",
       "      <td>2</td>\n",
       "      <td>0</td>\n",
       "      <td>Ciutat Vella</td>\n",
       "      <td>el Raval</td>\n",
       "      <td>2</td>\n",
       "      <td>[2.178881, 41.374692]</td>\n",
       "    </tr>\n",
       "    <tr>\n",
       "      <td>3</td>\n",
       "      <td>0</td>\n",
       "      <td>Ciutat Vella</td>\n",
       "      <td>el Raval</td>\n",
       "      <td>3</td>\n",
       "      <td>[2.178217, 41.373863]</td>\n",
       "    </tr>\n",
       "    <tr>\n",
       "      <td>4</td>\n",
       "      <td>0</td>\n",
       "      <td>Ciutat Vella</td>\n",
       "      <td>el Raval</td>\n",
       "      <td>4</td>\n",
       "      <td>[2.183148, 41.371629]</td>\n",
       "    </tr>\n",
       "  </tbody>\n",
       "</table>\n",
       "</div>"
      ],
      "text/plain": [
       "   feature neighborhood_group neighborhood  point            coordinates\n",
       "0        0       Ciutat Vella     el Raval      0  [2.177386, 41.375347]\n",
       "1        0       Ciutat Vella     el Raval      1  [2.178532, 41.374845]\n",
       "2        0       Ciutat Vella     el Raval      2  [2.178881, 41.374692]\n",
       "3        0       Ciutat Vella     el Raval      3  [2.178217, 41.373863]\n",
       "4        0       Ciutat Vella     el Raval      4  [2.183148, 41.371629]"
      ]
     },
     "execution_count": 8,
     "metadata": {},
     "output_type": "execute_result"
    }
   ],
   "source": [
    "neighbohoods_geo_flat.head()"
   ]
  },
  {
   "cell_type": "code",
   "execution_count": 9,
   "metadata": {},
   "outputs": [],
   "source": [
    "neighbohoods_geo_flat.to_csv('neighbohoods_geo-clean.csv', index = False)"
   ]
  },
  {
   "cell_type": "code",
   "execution_count": 10,
   "metadata": {},
   "outputs": [],
   "source": [
    "neighbohoods_geo_flat.to_json('neighbohoods_geo.json', orient = 'split', index = False)"
   ]
  },
  {
   "cell_type": "code",
   "execution_count": null,
   "metadata": {},
   "outputs": [],
   "source": []
  }
 ],
 "metadata": {
  "kernelspec": {
   "display_name": "Python 3",
   "language": "python",
   "name": "python3"
  },
  "language_info": {
   "codemirror_mode": {
    "name": "ipython",
    "version": 3
   },
   "file_extension": ".py",
   "mimetype": "text/x-python",
   "name": "python",
   "nbconvert_exporter": "python",
   "pygments_lexer": "ipython3",
   "version": "3.7.3"
  }
 },
 "nbformat": 4,
 "nbformat_minor": 2
}
