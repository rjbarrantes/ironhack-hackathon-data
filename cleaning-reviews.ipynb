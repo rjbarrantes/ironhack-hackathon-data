{
 "cells": [
  {
   "cell_type": "code",
   "execution_count": 13,
   "metadata": {},
   "outputs": [],
   "source": [
    "import pandas as pd\n",
    "pd.options.display.max_rows = 6000\n",
    "\n",
    "reviews = pd.read_csv('reviews.csv')"
   ]
  },
  {
   "cell_type": "code",
   "execution_count": 14,
   "metadata": {},
   "outputs": [
    {
     "data": {
      "text/plain": [
       "Index(['listing_id', 'id', 'date', 'reviewer_id', 'reviewer_name', 'comments'], dtype='object')"
      ]
     },
     "execution_count": 14,
     "metadata": {},
     "output_type": "execute_result"
    }
   ],
   "source": [
    "# columns\n",
    "\n",
    "reviews.columns"
   ]
  },
  {
   "cell_type": "code",
   "execution_count": 15,
   "metadata": {},
   "outputs": [
    {
     "data": {
      "text/html": [
       "<div>\n",
       "<style scoped>\n",
       "    .dataframe tbody tr th:only-of-type {\n",
       "        vertical-align: middle;\n",
       "    }\n",
       "\n",
       "    .dataframe tbody tr th {\n",
       "        vertical-align: top;\n",
       "    }\n",
       "\n",
       "    .dataframe thead th {\n",
       "        text-align: right;\n",
       "    }\n",
       "</style>\n",
       "<table border=\"1\" class=\"dataframe\">\n",
       "  <thead>\n",
       "    <tr style=\"text-align: right;\">\n",
       "      <th></th>\n",
       "      <th>listing_id</th>\n",
       "      <th>id</th>\n",
       "      <th>date</th>\n",
       "      <th>reviewer_id</th>\n",
       "      <th>reviewer_name</th>\n",
       "      <th>comments</th>\n",
       "    </tr>\n",
       "  </thead>\n",
       "  <tbody>\n",
       "    <tr>\n",
       "      <td>0</td>\n",
       "      <td>18666</td>\n",
       "      <td>50158511</td>\n",
       "      <td>2015-10-10</td>\n",
       "      <td>1559265</td>\n",
       "      <td>Jody</td>\n",
       "      <td>Very nice flat. We had easy transportation to ...</td>\n",
       "    </tr>\n",
       "    <tr>\n",
       "      <td>1</td>\n",
       "      <td>18674</td>\n",
       "      <td>4808211</td>\n",
       "      <td>2013-05-27</td>\n",
       "      <td>4841196</td>\n",
       "      <td>Caron</td>\n",
       "      <td>Great location. Clean, spacious flat. Would re...</td>\n",
       "    </tr>\n",
       "    <tr>\n",
       "      <td>2</td>\n",
       "      <td>18674</td>\n",
       "      <td>10660311</td>\n",
       "      <td>2014-03-02</td>\n",
       "      <td>11600277</td>\n",
       "      <td>Juan Carlos</td>\n",
       "      <td>Mi mejor recomendación para este departamento....</td>\n",
       "    </tr>\n",
       "    <tr>\n",
       "      <td>3</td>\n",
       "      <td>18674</td>\n",
       "      <td>41087522</td>\n",
       "      <td>2015-08-04</td>\n",
       "      <td>35231385</td>\n",
       "      <td>Shlomi</td>\n",
       "      <td>Big apartment, well equipped.\\r\\nVery good ser...</td>\n",
       "    </tr>\n",
       "    <tr>\n",
       "      <td>4</td>\n",
       "      <td>18674</td>\n",
       "      <td>81000756</td>\n",
       "      <td>2016-06-20</td>\n",
       "      <td>23223644</td>\n",
       "      <td>Joost</td>\n",
       "      <td>The Check in was fast and flexible. The price ...</td>\n",
       "    </tr>\n",
       "  </tbody>\n",
       "</table>\n",
       "</div>"
      ],
      "text/plain": [
       "   listing_id        id        date  reviewer_id reviewer_name  \\\n",
       "0       18666  50158511  2015-10-10      1559265          Jody   \n",
       "1       18674   4808211  2013-05-27      4841196         Caron   \n",
       "2       18674  10660311  2014-03-02     11600277   Juan Carlos   \n",
       "3       18674  41087522  2015-08-04     35231385        Shlomi   \n",
       "4       18674  81000756  2016-06-20     23223644         Joost   \n",
       "\n",
       "                                            comments  \n",
       "0  Very nice flat. We had easy transportation to ...  \n",
       "1  Great location. Clean, spacious flat. Would re...  \n",
       "2  Mi mejor recomendación para este departamento....  \n",
       "3  Big apartment, well equipped.\\r\\nVery good ser...  \n",
       "4  The Check in was fast and flexible. The price ...  "
      ]
     },
     "execution_count": 15,
     "metadata": {},
     "output_type": "execute_result"
    }
   ],
   "source": [
    "# first 5 rows of calendar\n",
    "\n",
    "reviews.head()"
   ]
  },
  {
   "cell_type": "code",
   "execution_count": 16,
   "metadata": {},
   "outputs": [
    {
     "data": {
      "text/html": [
       "<div>\n",
       "<style scoped>\n",
       "    .dataframe tbody tr th:only-of-type {\n",
       "        vertical-align: middle;\n",
       "    }\n",
       "\n",
       "    .dataframe tbody tr th {\n",
       "        vertical-align: top;\n",
       "    }\n",
       "\n",
       "    .dataframe thead th {\n",
       "        text-align: right;\n",
       "    }\n",
       "</style>\n",
       "<table border=\"1\" class=\"dataframe\">\n",
       "  <thead>\n",
       "    <tr style=\"text-align: right;\">\n",
       "      <th></th>\n",
       "      <th>reviewer_name</th>\n",
       "      <th>frequency</th>\n",
       "    </tr>\n",
       "  </thead>\n",
       "  <tbody>\n",
       "    <tr>\n",
       "      <td>0</td>\n",
       "      <td>David</td>\n",
       "      <td>0.006150</td>\n",
       "    </tr>\n",
       "    <tr>\n",
       "      <td>1</td>\n",
       "      <td>Laura</td>\n",
       "      <td>0.004847</td>\n",
       "    </tr>\n",
       "    <tr>\n",
       "      <td>2</td>\n",
       "      <td>Daniel</td>\n",
       "      <td>0.004826</td>\n",
       "    </tr>\n",
       "    <tr>\n",
       "      <td>3</td>\n",
       "      <td>Michael</td>\n",
       "      <td>0.004695</td>\n",
       "    </tr>\n",
       "    <tr>\n",
       "      <td>4</td>\n",
       "      <td>Anna</td>\n",
       "      <td>0.004472</td>\n",
       "    </tr>\n",
       "    <tr>\n",
       "      <td>...</td>\n",
       "      <td>...</td>\n",
       "      <td>...</td>\n",
       "    </tr>\n",
       "    <tr>\n",
       "      <td>84352</td>\n",
       "      <td>Vashti</td>\n",
       "      <td>0.000002</td>\n",
       "    </tr>\n",
       "    <tr>\n",
       "      <td>84353</td>\n",
       "      <td>Arife</td>\n",
       "      <td>0.000002</td>\n",
       "    </tr>\n",
       "    <tr>\n",
       "      <td>84354</td>\n",
       "      <td>Jakob Jonathan</td>\n",
       "      <td>0.000002</td>\n",
       "    </tr>\n",
       "    <tr>\n",
       "      <td>84355</td>\n",
       "      <td>Kristýna Eva</td>\n",
       "      <td>0.000002</td>\n",
       "    </tr>\n",
       "    <tr>\n",
       "      <td>84356</td>\n",
       "      <td>Jorge &amp; Amanda</td>\n",
       "      <td>0.000002</td>\n",
       "    </tr>\n",
       "  </tbody>\n",
       "</table>\n",
       "<p>84357 rows × 2 columns</p>\n",
       "</div>"
      ],
      "text/plain": [
       "        reviewer_name  frequency\n",
       "0               David   0.006150\n",
       "1               Laura   0.004847\n",
       "2              Daniel   0.004826\n",
       "3             Michael   0.004695\n",
       "4                Anna   0.004472\n",
       "...               ...        ...\n",
       "84352          Vashti   0.000002\n",
       "84353           Arife   0.000002\n",
       "84354  Jakob Jonathan   0.000002\n",
       "84355    Kristýna Eva   0.000002\n",
       "84356  Jorge & Amanda   0.000002\n",
       "\n",
       "[84357 rows x 2 columns]"
      ]
     },
     "execution_count": 16,
     "metadata": {},
     "output_type": "execute_result"
    }
   ],
   "source": [
    "# starting values in reviewer name column\n",
    "\n",
    "pd.Series(reviews['reviewer_name'].value_counts(normalize = True)).reset_index().rename(columns = {'index': 'reviewer_name', 'reviewer_name': 'frequency'})"
   ]
  },
  {
   "cell_type": "code",
   "execution_count": 17,
   "metadata": {},
   "outputs": [
    {
     "data": {
      "text/html": [
       "<div>\n",
       "<style scoped>\n",
       "    .dataframe tbody tr th:only-of-type {\n",
       "        vertical-align: middle;\n",
       "    }\n",
       "\n",
       "    .dataframe tbody tr th {\n",
       "        vertical-align: top;\n",
       "    }\n",
       "\n",
       "    .dataframe thead th {\n",
       "        text-align: right;\n",
       "    }\n",
       "</style>\n",
       "<table border=\"1\" class=\"dataframe\">\n",
       "  <thead>\n",
       "    <tr style=\"text-align: right;\">\n",
       "      <th></th>\n",
       "      <th>comment</th>\n",
       "      <th>frequency</th>\n",
       "    </tr>\n",
       "  </thead>\n",
       "  <tbody>\n",
       "    <tr>\n",
       "      <td>0</td>\n",
       "      <td>.</td>\n",
       "      <td>0.000990</td>\n",
       "    </tr>\n",
       "    <tr>\n",
       "      <td>1</td>\n",
       "      <td>The host canceled this reservation the day bef...</td>\n",
       "      <td>0.000570</td>\n",
       "    </tr>\n",
       "    <tr>\n",
       "      <td>2</td>\n",
       "      <td>The host canceled this reservation 2 days befo...</td>\n",
       "      <td>0.000446</td>\n",
       "    </tr>\n",
       "    <tr>\n",
       "      <td>3</td>\n",
       "      <td>Great location!</td>\n",
       "      <td>0.000355</td>\n",
       "    </tr>\n",
       "    <tr>\n",
       "      <td>4</td>\n",
       "      <td>Great location</td>\n",
       "      <td>0.000347</td>\n",
       "    </tr>\n",
       "    <tr>\n",
       "      <td>...</td>\n",
       "      <td>...</td>\n",
       "      <td>...</td>\n",
       "    </tr>\n",
       "    <tr>\n",
       "      <td>634151</td>\n",
       "      <td>I've much enjoyed the stay at Noemi's place. H...</td>\n",
       "      <td>0.000002</td>\n",
       "    </tr>\n",
       "    <tr>\n",
       "      <td>634152</td>\n",
       "      <td>Jana was a lovely host. She was very responsiv...</td>\n",
       "      <td>0.000002</td>\n",
       "    </tr>\n",
       "    <tr>\n",
       "      <td>634153</td>\n",
       "      <td>The room is small but nice and has everything ...</td>\n",
       "      <td>0.000002</td>\n",
       "    </tr>\n",
       "    <tr>\n",
       "      <td>634154</td>\n",
       "      <td>This was a great spot! My friend and I are cur...</td>\n",
       "      <td>0.000002</td>\n",
       "    </tr>\n",
       "    <tr>\n",
       "      <td>634155</td>\n",
       "      <td>Lina was a fantastic host, checkin was seamles...</td>\n",
       "      <td>0.000002</td>\n",
       "    </tr>\n",
       "  </tbody>\n",
       "</table>\n",
       "<p>634156 rows × 2 columns</p>\n",
       "</div>"
      ],
      "text/plain": [
       "                                                  comment  frequency\n",
       "0                                                       .   0.000990\n",
       "1       The host canceled this reservation the day bef...   0.000570\n",
       "2       The host canceled this reservation 2 days befo...   0.000446\n",
       "3                                         Great location!   0.000355\n",
       "4                                          Great location   0.000347\n",
       "...                                                   ...        ...\n",
       "634151  I've much enjoyed the stay at Noemi's place. H...   0.000002\n",
       "634152  Jana was a lovely host. She was very responsiv...   0.000002\n",
       "634153  The room is small but nice and has everything ...   0.000002\n",
       "634154  This was a great spot! My friend and I are cur...   0.000002\n",
       "634155  Lina was a fantastic host, checkin was seamles...   0.000002\n",
       "\n",
       "[634156 rows x 2 columns]"
      ]
     },
     "execution_count": 17,
     "metadata": {},
     "output_type": "execute_result"
    }
   ],
   "source": [
    "# starting values in comments column\n",
    "\n",
    "pd.Series(reviews['comments'].value_counts(normalize = True)).reset_index().rename(columns = {'index': 'comment', 'comments': 'frequency'})"
   ]
  },
  {
   "cell_type": "code",
   "execution_count": 18,
   "metadata": {},
   "outputs": [
    {
     "data": {
      "text/plain": [
       "comments         0.044709\n",
       "reviewer_name    0.000000\n",
       "reviewer_id      0.000000\n",
       "date             0.000000\n",
       "id               0.000000\n",
       "listing_id       0.000000\n",
       "dtype: float64"
      ]
     },
     "execution_count": 18,
     "metadata": {},
     "output_type": "execute_result"
    }
   ],
   "source": [
    "# determining missingness among columns\n",
    "\n",
    "def missingness(df):\n",
    "    return df.isna().sum().sort_values(ascending = False) / len(df) * 100\n",
    "\n",
    "missingness(reviews)"
   ]
  },
  {
   "cell_type": "code",
   "execution_count": 19,
   "metadata": {},
   "outputs": [
    {
     "data": {
      "text/plain": [
       "[[0.00015363838747294045, 'reviewer_name - comments'],\n",
       " [0.0, 'reviewer_id - reviewer_name'],\n",
       " [0.0, 'reviewer_id - comments'],\n",
       " [0.0, 'listing_id - reviewer_name'],\n",
       " [0.0, 'listing_id - reviewer_id'],\n",
       " [0.0, 'listing_id - id'],\n",
       " [0.0, 'listing_id - date'],\n",
       " [0.0, 'listing_id - comments'],\n",
       " [0.0, 'id - reviewer_name'],\n",
       " [0.0, 'id - reviewer_id'],\n",
       " [0.0, 'id - date'],\n",
       " [0.0, 'id - comments'],\n",
       " [0.0, 'date - reviewer_name'],\n",
       " [0.0, 'date - reviewer_id'],\n",
       " [0.0, 'date - comments']]"
      ]
     },
     "execution_count": 19,
     "metadata": {},
     "output_type": "execute_result"
    }
   ],
   "source": [
    "# determining repeating columns\n",
    "\n",
    "def repeating_cols(df):\n",
    "    comparisons = []\n",
    "    match_ratios = []\n",
    "    \n",
    "    for i in range(len(df.columns)):\n",
    "        for j in range(i + 1, len(df.columns)):\n",
    "            comparisons_i = [df.columns[i], df.columns[j]]\n",
    "            comparisons.append(comparisons_i)\n",
    "    \n",
    "    for i in comparisons:\n",
    "        match_ratios_i = [(df[i[0]] == df[i[1]]).sum() / len(df) * 100, i[0] + ' - ' + i[1]]\n",
    "        match_ratios.append(match_ratios_i)\n",
    "    match_ratios.sort(reverse = True)\n",
    "    \n",
    "    return match_ratios\n",
    "\n",
    "repeating_cols(reviews)"
   ]
  },
  {
   "cell_type": "code",
   "execution_count": 20,
   "metadata": {},
   "outputs": [
    {
     "data": {
      "text/plain": [
       "listing_id        int64\n",
       "id                int64\n",
       "date             object\n",
       "reviewer_id       int64\n",
       "reviewer_name    object\n",
       "comments         object\n",
       "dtype: object"
      ]
     },
     "execution_count": 20,
     "metadata": {},
     "output_type": "execute_result"
    }
   ],
   "source": [
    "# starting column dtypes\n",
    "\n",
    "reviews.dtypes"
   ]
  },
  {
   "cell_type": "code",
   "execution_count": 21,
   "metadata": {},
   "outputs": [
    {
     "data": {
      "text/plain": [
       "listing_id                int64\n",
       "id                        int64\n",
       "date             datetime64[ns]\n",
       "reviewer_id               int64\n",
       "reviewer_name            object\n",
       "comments                 object\n",
       "dtype: object"
      ]
     },
     "execution_count": 21,
     "metadata": {},
     "output_type": "execute_result"
    }
   ],
   "source": [
    "reviews = reviews.astype({'date': 'datetime64'})\n",
    "reviews.dtypes"
   ]
  },
  {
   "cell_type": "code",
   "execution_count": 22,
   "metadata": {},
   "outputs": [
    {
     "data": {
      "text/html": [
       "<div>\n",
       "<style scoped>\n",
       "    .dataframe tbody tr th:only-of-type {\n",
       "        vertical-align: middle;\n",
       "    }\n",
       "\n",
       "    .dataframe tbody tr th {\n",
       "        vertical-align: top;\n",
       "    }\n",
       "\n",
       "    .dataframe thead th {\n",
       "        text-align: right;\n",
       "    }\n",
       "</style>\n",
       "<table border=\"1\" class=\"dataframe\">\n",
       "  <thead>\n",
       "    <tr style=\"text-align: right;\">\n",
       "      <th></th>\n",
       "      <th>listing_id</th>\n",
       "      <th>id</th>\n",
       "      <th>date</th>\n",
       "      <th>reviewer_id</th>\n",
       "      <th>reviewer_name</th>\n",
       "      <th>comments</th>\n",
       "    </tr>\n",
       "  </thead>\n",
       "  <tbody>\n",
       "    <tr>\n",
       "      <td>0</td>\n",
       "      <td>18666</td>\n",
       "      <td>50158511</td>\n",
       "      <td>2015-10-10</td>\n",
       "      <td>1559265</td>\n",
       "      <td>Jody</td>\n",
       "      <td>Very nice flat. We had easy transportation to ...</td>\n",
       "    </tr>\n",
       "    <tr>\n",
       "      <td>1</td>\n",
       "      <td>18674</td>\n",
       "      <td>4808211</td>\n",
       "      <td>2013-05-27</td>\n",
       "      <td>4841196</td>\n",
       "      <td>Caron</td>\n",
       "      <td>Great location. Clean, spacious flat. Would re...</td>\n",
       "    </tr>\n",
       "    <tr>\n",
       "      <td>2</td>\n",
       "      <td>18674</td>\n",
       "      <td>10660311</td>\n",
       "      <td>2014-03-02</td>\n",
       "      <td>11600277</td>\n",
       "      <td>Juan Carlos</td>\n",
       "      <td>Mi mejor recomendación para este departamento....</td>\n",
       "    </tr>\n",
       "    <tr>\n",
       "      <td>3</td>\n",
       "      <td>18674</td>\n",
       "      <td>41087522</td>\n",
       "      <td>2015-08-04</td>\n",
       "      <td>35231385</td>\n",
       "      <td>Shlomi</td>\n",
       "      <td>Big apartment, well equipped.\\r\\nVery good ser...</td>\n",
       "    </tr>\n",
       "    <tr>\n",
       "      <td>4</td>\n",
       "      <td>18674</td>\n",
       "      <td>81000756</td>\n",
       "      <td>2016-06-20</td>\n",
       "      <td>23223644</td>\n",
       "      <td>Joost</td>\n",
       "      <td>The Check in was fast and flexible. The price ...</td>\n",
       "    </tr>\n",
       "  </tbody>\n",
       "</table>\n",
       "</div>"
      ],
      "text/plain": [
       "   listing_id        id       date  reviewer_id reviewer_name  \\\n",
       "0       18666  50158511 2015-10-10      1559265          Jody   \n",
       "1       18674   4808211 2013-05-27      4841196         Caron   \n",
       "2       18674  10660311 2014-03-02     11600277   Juan Carlos   \n",
       "3       18674  41087522 2015-08-04     35231385        Shlomi   \n",
       "4       18674  81000756 2016-06-20     23223644         Joost   \n",
       "\n",
       "                                            comments  \n",
       "0  Very nice flat. We had easy transportation to ...  \n",
       "1  Great location. Clean, spacious flat. Would re...  \n",
       "2  Mi mejor recomendación para este departamento....  \n",
       "3  Big apartment, well equipped.\\r\\nVery good ser...  \n",
       "4  The Check in was fast and flexible. The price ...  "
      ]
     },
     "execution_count": 22,
     "metadata": {},
     "output_type": "execute_result"
    }
   ],
   "source": [
    "reviews.head()"
   ]
  },
  {
   "cell_type": "code",
   "execution_count": 23,
   "metadata": {},
   "outputs": [],
   "source": [
    "reviews.to_csv('reviews-clean.csv', index = False)"
   ]
  },
  {
   "cell_type": "code",
   "execution_count": 24,
   "metadata": {},
   "outputs": [],
   "source": [
    "reviews.to_json('reviews.json', orient = 'split', index = False)"
   ]
  },
  {
   "cell_type": "code",
   "execution_count": null,
   "metadata": {},
   "outputs": [],
   "source": []
  }
 ],
 "metadata": {
  "kernelspec": {
   "display_name": "Python 3",
   "language": "python",
   "name": "python3"
  },
  "language_info": {
   "codemirror_mode": {
    "name": "ipython",
    "version": 3
   },
   "file_extension": ".py",
   "mimetype": "text/x-python",
   "name": "python",
   "nbconvert_exporter": "python",
   "pygments_lexer": "ipython3",
   "version": "3.7.3"
  }
 },
 "nbformat": 4,
 "nbformat_minor": 2
}
