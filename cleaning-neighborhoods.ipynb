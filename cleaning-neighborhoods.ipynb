{
 "cells": [
  {
   "cell_type": "code",
   "execution_count": 1,
   "metadata": {},
   "outputs": [],
   "source": [
    "import pandas as pd\n",
    "pd.options.display.max_rows = 6000\n",
    "\n",
    "neighborhoods = pd.read_csv('neighbourhoods.csv')"
   ]
  },
  {
   "cell_type": "code",
   "execution_count": 2,
   "metadata": {},
   "outputs": [
    {
     "data": {
      "text/plain": [
       "Index(['neighbourhood_group', 'neighbourhood'], dtype='object')"
      ]
     },
     "execution_count": 2,
     "metadata": {},
     "output_type": "execute_result"
    }
   ],
   "source": [
    "# columns\n",
    "\n",
    "neighborhoods.columns"
   ]
  },
  {
   "cell_type": "code",
   "execution_count": 3,
   "metadata": {},
   "outputs": [],
   "source": [
    "# rename columns\n",
    "\n",
    "neighborhoods.columns = ['neighborhood_group', 'neighborhood']"
   ]
  },
  {
   "cell_type": "code",
   "execution_count": 4,
   "metadata": {},
   "outputs": [
    {
     "data": {
      "text/html": [
       "<div>\n",
       "<style scoped>\n",
       "    .dataframe tbody tr th:only-of-type {\n",
       "        vertical-align: middle;\n",
       "    }\n",
       "\n",
       "    .dataframe tbody tr th {\n",
       "        vertical-align: top;\n",
       "    }\n",
       "\n",
       "    .dataframe thead th {\n",
       "        text-align: right;\n",
       "    }\n",
       "</style>\n",
       "<table border=\"1\" class=\"dataframe\">\n",
       "  <thead>\n",
       "    <tr style=\"text-align: right;\">\n",
       "      <th></th>\n",
       "      <th>neighborhood_group</th>\n",
       "      <th>neighborhood</th>\n",
       "    </tr>\n",
       "  </thead>\n",
       "  <tbody>\n",
       "    <tr>\n",
       "      <td>0</td>\n",
       "      <td>Ciutat Vella</td>\n",
       "      <td>el Barri Gòtic</td>\n",
       "    </tr>\n",
       "    <tr>\n",
       "      <td>1</td>\n",
       "      <td>Ciutat Vella</td>\n",
       "      <td>el Raval</td>\n",
       "    </tr>\n",
       "    <tr>\n",
       "      <td>2</td>\n",
       "      <td>Ciutat Vella</td>\n",
       "      <td>la Barceloneta</td>\n",
       "    </tr>\n",
       "    <tr>\n",
       "      <td>3</td>\n",
       "      <td>Ciutat Vella</td>\n",
       "      <td>Sant Pere, Santa Caterina i la Ribera</td>\n",
       "    </tr>\n",
       "    <tr>\n",
       "      <td>4</td>\n",
       "      <td>Eixample</td>\n",
       "      <td>el Fort Pienc</td>\n",
       "    </tr>\n",
       "  </tbody>\n",
       "</table>\n",
       "</div>"
      ],
      "text/plain": [
       "  neighborhood_group                           neighborhood\n",
       "0       Ciutat Vella                         el Barri Gòtic\n",
       "1       Ciutat Vella                               el Raval\n",
       "2       Ciutat Vella                         la Barceloneta\n",
       "3       Ciutat Vella  Sant Pere, Santa Caterina i la Ribera\n",
       "4           Eixample                          el Fort Pienc"
      ]
     },
     "execution_count": 4,
     "metadata": {},
     "output_type": "execute_result"
    }
   ],
   "source": [
    "# first 5 rows of neighborhoods\n",
    "\n",
    "neighborhoods.head()"
   ]
  },
  {
   "cell_type": "code",
   "execution_count": 5,
   "metadata": {},
   "outputs": [
    {
     "data": {
      "text/plain": [
       "Nou Barris             13\n",
       "Horta-Guinardó         11\n",
       "Sant Martí             10\n",
       "Sants-Montjuïc          8\n",
       "Sant Andreu             7\n",
       "Sarrià-Sant Gervasi     6\n",
       "Eixample                6\n",
       "Gràcia                  5\n",
       "Ciutat Vella            4\n",
       "Les Corts               3\n",
       "Name: neighborhood_group, dtype: int64"
      ]
     },
     "execution_count": 5,
     "metadata": {},
     "output_type": "execute_result"
    }
   ],
   "source": [
    "# starting values in neighborhood group column\n",
    "\n",
    "neighborhoods['neighborhood_group'].value_counts()"
   ]
  },
  {
   "cell_type": "code",
   "execution_count": 6,
   "metadata": {},
   "outputs": [
    {
     "data": {
      "text/plain": [
       "el Besòs i el Maresme                           1\n",
       "Canyelles                                       1\n",
       "Navas                                           1\n",
       "el Fort Pienc                                   1\n",
       "Hostafrancs                                     1\n",
       "Montbau                                         1\n",
       "Vilapicina i la Torre Llobeta                   1\n",
       "el Poble Sec                                    1\n",
       "Porta                                           1\n",
       "la Vall d'Hebron                                1\n",
       "el Raval                                        1\n",
       "la Trinitat Vella                               1\n",
       "Sant Andreu                                     1\n",
       "la Guineueta                                    1\n",
       "el Baix Guinardó                                1\n",
       "Sant Martí de Provençals                        1\n",
       "les Tres Torres                                 1\n",
       "Vallbona                                        1\n",
       "la Salut                                        1\n",
       "la Vila de Gràcia                               1\n",
       "l'Antiga Esquerra de l'Eixample                 1\n",
       "Horta                                           1\n",
       "la Prosperitat                                  1\n",
       "la Vila Olímpica del Poblenou                   1\n",
       "Sarrià                                          1\n",
       "el Barri Gòtic                                  1\n",
       "la Verneda i la Pau                             1\n",
       "Sant Antoni                                     1\n",
       "les Corts                                       1\n",
       "Baró de Viver                                   1\n",
       "el Carmel                                       1\n",
       "la Nova Esquerra de l'Eixample                  1\n",
       "la Clota                                        1\n",
       "Provençals del Poblenou                         1\n",
       "la Maternitat i Sant Ramon                      1\n",
       "Can Peguera                                     1\n",
       "Sants - Badal                                   1\n",
       "Vallcarca i els Penitents                       1\n",
       "Sant Gervasi - Galvany                          1\n",
       "la Sagrada Família                              1\n",
       "Sants                                           1\n",
       "les Roquetes                                    1\n",
       "el Poblenou                                     1\n",
       "la Bordeta                                      1\n",
       "Can Baró                                        1\n",
       "Torre Baró                                      1\n",
       "la Font d'en Fargues                            1\n",
       "la Barceloneta                                  1\n",
       "Sant Gervasi - la Bonanova                      1\n",
       "el Turó de la Peira                             1\n",
       "Ciutat Meridiana                                1\n",
       "la Dreta de l'Eixample                          1\n",
       "el Camp d'en Grassot i Gràcia Nova              1\n",
       "Sant Genís dels Agudells                        1\n",
       "el Congrés i els Indians                        1\n",
       "la Marina del Prat Vermell                      1\n",
       "el Camp de l'Arpa del Clot                      1\n",
       "el Putxet i el Farró                            1\n",
       "el Clot                                         1\n",
       "Pedralbes                                       1\n",
       "el Coll                                         1\n",
       "Verdun                                          1\n",
       "la Trinitat Nova                                1\n",
       "el Guinardó                                     1\n",
       "la Font de la Guatlla                           1\n",
       "la Sagrera                                      1\n",
       "la Teixonera                                    1\n",
       "el Parc i la Llacuna del Poblenou               1\n",
       "Vallvidrera, el Tibidabo i les Planes           1\n",
       "la Marina de Port                               1\n",
       "Diagonal Mar i el Front Marítim del Poblenou    1\n",
       "Sant Pere, Santa Caterina i la Ribera           1\n",
       "el Bon Pastor                                   1\n",
       "Name: neighborhood, dtype: int64"
      ]
     },
     "execution_count": 6,
     "metadata": {},
     "output_type": "execute_result"
    }
   ],
   "source": [
    "# starting values in neighborhood column\n",
    "\n",
    "neighborhoods['neighborhood'].value_counts()"
   ]
  },
  {
   "cell_type": "code",
   "execution_count": 7,
   "metadata": {},
   "outputs": [
    {
     "data": {
      "text/plain": [
       "neighborhood          0.0\n",
       "neighborhood_group    0.0\n",
       "dtype: float64"
      ]
     },
     "execution_count": 7,
     "metadata": {},
     "output_type": "execute_result"
    }
   ],
   "source": [
    "# determining missingness among columns\n",
    "\n",
    "def missingness(df):\n",
    "    return df.isna().sum().sort_values(ascending = False) / len(df) * 100\n",
    "\n",
    "missingness(neighborhoods)"
   ]
  },
  {
   "cell_type": "code",
   "execution_count": 8,
   "metadata": {},
   "outputs": [
    {
     "data": {
      "text/plain": [
       "neighborhood_group    object\n",
       "neighborhood          object\n",
       "dtype: object"
      ]
     },
     "execution_count": 8,
     "metadata": {},
     "output_type": "execute_result"
    }
   ],
   "source": [
    "# starting column dtypes\n",
    "\n",
    "neighborhoods.dtypes"
   ]
  },
  {
   "cell_type": "code",
   "execution_count": 9,
   "metadata": {},
   "outputs": [
    {
     "data": {
      "text/html": [
       "<div>\n",
       "<style scoped>\n",
       "    .dataframe tbody tr th:only-of-type {\n",
       "        vertical-align: middle;\n",
       "    }\n",
       "\n",
       "    .dataframe tbody tr th {\n",
       "        vertical-align: top;\n",
       "    }\n",
       "\n",
       "    .dataframe thead th {\n",
       "        text-align: right;\n",
       "    }\n",
       "</style>\n",
       "<table border=\"1\" class=\"dataframe\">\n",
       "  <thead>\n",
       "    <tr style=\"text-align: right;\">\n",
       "      <th></th>\n",
       "      <th>neighborhood_group</th>\n",
       "      <th>neighborhood</th>\n",
       "    </tr>\n",
       "  </thead>\n",
       "  <tbody>\n",
       "    <tr>\n",
       "      <td>0</td>\n",
       "      <td>Ciutat Vella</td>\n",
       "      <td>el Barri Gòtic</td>\n",
       "    </tr>\n",
       "    <tr>\n",
       "      <td>1</td>\n",
       "      <td>Ciutat Vella</td>\n",
       "      <td>el Raval</td>\n",
       "    </tr>\n",
       "    <tr>\n",
       "      <td>2</td>\n",
       "      <td>Ciutat Vella</td>\n",
       "      <td>la Barceloneta</td>\n",
       "    </tr>\n",
       "    <tr>\n",
       "      <td>3</td>\n",
       "      <td>Ciutat Vella</td>\n",
       "      <td>Sant Pere, Santa Caterina i la Ribera</td>\n",
       "    </tr>\n",
       "    <tr>\n",
       "      <td>4</td>\n",
       "      <td>Eixample</td>\n",
       "      <td>el Fort Pienc</td>\n",
       "    </tr>\n",
       "  </tbody>\n",
       "</table>\n",
       "</div>"
      ],
      "text/plain": [
       "  neighborhood_group                           neighborhood\n",
       "0       Ciutat Vella                         el Barri Gòtic\n",
       "1       Ciutat Vella                               el Raval\n",
       "2       Ciutat Vella                         la Barceloneta\n",
       "3       Ciutat Vella  Sant Pere, Santa Caterina i la Ribera\n",
       "4           Eixample                          el Fort Pienc"
      ]
     },
     "execution_count": 9,
     "metadata": {},
     "output_type": "execute_result"
    }
   ],
   "source": [
    "neighborhoods.head()"
   ]
  },
  {
   "cell_type": "code",
   "execution_count": 10,
   "metadata": {},
   "outputs": [],
   "source": [
    "neighborhoods.to_csv('neighborhoods-clean.csv', index = False)"
   ]
  },
  {
   "cell_type": "code",
   "execution_count": 11,
   "metadata": {},
   "outputs": [],
   "source": [
    "neighborhoods.to_json('neighborhoods.json', orient = 'split', index = False)"
   ]
  },
  {
   "cell_type": "code",
   "execution_count": null,
   "metadata": {},
   "outputs": [],
   "source": []
  }
 ],
 "metadata": {
  "kernelspec": {
   "display_name": "Python 3",
   "language": "python",
   "name": "python3"
  },
  "language_info": {
   "codemirror_mode": {
    "name": "ipython",
    "version": 3
   },
   "file_extension": ".py",
   "mimetype": "text/x-python",
   "name": "python",
   "nbconvert_exporter": "python",
   "pygments_lexer": "ipython3",
   "version": "3.7.3"
  }
 },
 "nbformat": 4,
 "nbformat_minor": 2
}
